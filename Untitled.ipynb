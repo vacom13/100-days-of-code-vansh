{
 "cells": [
  {
   "cell_type": "markdown",
   "id": "efdc0a37-688b-4b76-9f8a-9289684f7f5e",
   "metadata": {},
   "source": [
    "# Day 2 "
   ]
  },
  {
   "cell_type": "markdown",
   "id": "70a30eed-3040-4180-8a65-651bbdb76801",
   "metadata": {},
   "source": [
    "PEMDAS - order of priority\n",
    "\n",
    "Calculation goes from left to right\n",
    "\n",
    "Division then conversion leads to truncation of floating part. Same as floor division (//)"
   ]
  },
  {
   "cell_type": "markdown",
   "id": "cad79303-b00f-4685-bade-9f7f28951389",
   "metadata": {},
   "source": [
    "### Short Hand\n",
    "score+=1"
   ]
  },
  {
   "cell_type": "markdown",
   "id": "dd4a74c4-0768-4a98-8d1b-e6e385e68bf4",
   "metadata": {},
   "source": [
    "### f-String"
   ]
  },
  {
   "cell_type": "code",
   "execution_count": 2,
   "id": "72050e22-7fb1-4be2-b37e-a29b90a1f55f",
   "metadata": {},
   "outputs": [
    {
     "data": {
      "text/plain": [
       "'Your number is 10'"
      ]
     },
     "execution_count": 2,
     "metadata": {},
     "output_type": "execute_result"
    }
   ],
   "source": [
    "v = 10\n",
    "f\"Your number is {v}\""
   ]
  },
  {
   "cell_type": "code",
   "execution_count": null,
   "id": "28e8a626-af86-4b48-abf5-27117d1c9cea",
   "metadata": {},
   "outputs": [],
   "source": []
  }
 ],
 "metadata": {
  "kernelspec": {
   "display_name": "Python 3 (ipykernel)",
   "language": "python",
   "name": "python3"
  },
  "language_info": {
   "codemirror_mode": {
    "name": "ipython",
    "version": 3
   },
   "file_extension": ".py",
   "mimetype": "text/x-python",
   "name": "python",
   "nbconvert_exporter": "python",
   "pygments_lexer": "ipython3",
   "version": "3.10.4"
  }
 },
 "nbformat": 4,
 "nbformat_minor": 5
}
